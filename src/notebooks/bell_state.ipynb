{
 "cells": [
  {
   "cell_type": "markdown",
   "metadata": {},
   "source": [
    "\n",
    "Welcome to this tutorial! Here, we'll use **Qiskit v1.4** to:\n",
    "1. Build a **Bell state** quantum circuit  \n",
    "2. Simulate the quantum circuit  \n",
    "3. Analyze the results  \n",
    "\n",
    "---\n",
    "###  What is a Bell State?\n",
    "Recall the Bell state, one of the **simplest maximally entangled states**.When measuring one qubit in the Bell state, the outcome is a random (50% |0⟩, 50% |1⟩), but once measured, the other qubit’s state is instantly determined due to quantum entanglement, no matter how far apart they are.\n",
    "\n",
    "Let's implement it in Qiskit! We first import our dependecies. We import the very specifics we need here for this to be light weight. \n"
   ]
  },
  {
   "cell_type": "code",
   "execution_count": null,
   "metadata": {
    "vscode": {
     "languageId": "plaintext"
    }
   },
   "outputs": [],
   "source": [
    "import numpy as np \n",
    "    #needed for numerical operations\n",
    "\n",
    "from qiskit import QuantumCircuit, transpile, assemble\n",
    "    # QuantumCircuit: Defines and manipulates quantum circuits.  \n",
    "    # transpile: Optimizes quantum circuits for a specific quantum backend.  \n",
    "    # assemble: Converts the circuit into a runnable format for execution on simulators or real quantum hardware.\n",
    "\n",
    "from qiskit.primitives import StatevectorSampler    \n",
    "    # A high-level Qiskit primitive that allows simulation of quantum circuits using state vectors.\n",
    "\n",
    "from qiskit.visualization import plot_histogram\n",
    "    # Lets us visualize quantum measurement results in a histogram format.\n",
    "from qiskit_aer import Aer  \n",
    "    # Provides high-performance simulators to run quantum circuits on classical hardware.\n",
    "import matplotlib.pyplot as plt  \n",
    "    # For plotting"
   ]
  },
  {
   "cell_type": "markdown",
   "metadata": {},
   "source": [
    "## Step 1: Creating a Quantum Circuit\n",
    "We create a 2-qubit quantum circuit and apply:\n",
    "\n",
    "    1. Hadamard Gate (H): Places qubit 0 in superposition  \n",
    "    2. CNOT Gate (CX): Entangles qubit 0 with qubit 1  \n"
   ]
  },
  {
   "cell_type": "code",
   "execution_count": null,
   "metadata": {
    "vscode": {
     "languageId": "plaintext"
    }
   },
   "outputs": [],
   "source": [
    "# Create a quantum circuit with 2 qubits\n",
    "qc = QuantumCircuit(2)\n",
    "\n",
    "# Apply a Hadamard gate to qubit 0 (superposition)\n",
    "qc.h(0)\n",
    "\n",
    "# Apply a CNOT gate to entangle qubits 0 and 1\n",
    "qc.cx(0, 1)\n",
    "\n",
    "# several ways to visualise the quantum circuit, like:\n",
    "print(qc)             # 1. Prints ascii representation to the terminal, as QuantumCircuit has a __str__ method\n",
    "qc.draw('mpl')        # 2. Produces a matplotlib diagram. draw(\"text\") would print an ascii representation as well. \n"
   ]
  },
  {
   "cell_type": "markdown",
   "metadata": {},
   "source": [
    "##  Step 2: Transpile and Choose a backend. \n",
    "At this stage, we have **built a quantum circuit**, but it has **not been executed** yet. It is siply an **abstract representation** of quantum operations.\n",
    "\n",
    "Before running it on real hardware or a simulator, we need to:\n",
    "\n",
    "    1. Transpile the circuit  \n",
    "    2. Choose a quantum backend\n",
    "    3. Prepare the circuit for execution\n",
    "\n",
    "\n",
    "### Transpilation\n",
    "Transpilation is like \"translating\" your quantum circuit so that it can run correctly on the backend you choose. A quantum computer has **physical constraints**, so depending on the computer, certain operations (gates) will not be natively supported. **`transpile()`** converts the circuit into an **optimized** version that respects the **hardware's connectivity** and **gate set**.\n",
    "\n",
    "Since we are simulating on a classical computer, we don’t have to worry about real hardware limitations, and the circuit would still execute without it, but we still transpile because: \n",
    "\n",
    "    1. It optimizes the circuit for faster and more efficient execution.\n",
    "    2. It removes unnecessary operations that don’t affect the final result.\n",
    "    3. It ensures compatibility in case we later want to run on a real quantum device.\n",
    "\n",
    "### Choosing a backend\n",
    "- Qiskit provides multiple quantum **simulators** (simulated quantum computers), like aer_simuator, qasm_simulator and statevector_simulator\n",
    "- We use **`'aer_simulator'`**, which beacuse it is efficient and allows us to simulate both noise-free and noisy environments.\n"
   ]
  },
  {
   "cell_type": "code",
   "execution_count": null,
   "metadata": {
    "vscode": {
     "languageId": "plaintext"
    }
   },
   "outputs": [],
   "source": [
    "# Choose a simulator backend\n",
    "simulator = Aer.get_backend('aer_simulator')\n",
    "\n",
    "# Transpile the circuit for the simulator\n",
    "qc_transpiled = transpile(qc, simulator)\n",
    "print(\"Transpiled Circuit Ready for Execution:\")\n",
    "print(qc_transpiled)"
   ]
  },
  {
   "cell_type": "markdown",
   "metadata": {},
   "source": [
    "##  Step 3: Running the Circuit and Getting Results\n",
    "Now that the circuit is **transpiled** and a simulator is chosen, we can **execute** it.\n",
    "\n",
    "### What Happens During Execution?\n",
    "1. Ensure the circuit includes measurement gates\n",
    "    * A quantum circuit does not measure qubits by default.\n",
    "    * We explicitly add measurement gates using qc.measure_all(inplace=False) to store results in classical registers after execution.\n",
    "2. Send the circuit to the quantum backend for execution.\n",
    "    * In most quantum simulations and real hardware runs, shots controls the number of times the circuit is executed.\n",
    "    * If shots=1024, circuit is executed 1024 times and results are statistically sampled. \n"
   ]
  },
  {
   "cell_type": "code",
   "execution_count": null,
   "metadata": {
    "vscode": {
     "languageId": "plaintext"
    }
   },
   "outputs": [],
   "source": [
    "# Add measurement, inplace=False creates a new circuit with measurement gates instead of modifying qc directly\n",
    "qc_measured = qc.measure_all(inplace=False)  \n",
    "\n",
    "# Run the circuit on the simulator        \n",
    "job = sampler.run([qc_measured], shots=1024)  \n",
    " \n",
    "# Get and print results \n",
    "result = job.result()\n",
    "print(result.get_counts())\n"
   ]
  },
  {
   "cell_type": "markdown",
   "metadata": {},
   "source": [
    "## Congratulations! \n",
    "You got your first quantum program to run! You have all the power in your hands now. Go wild and expirament. \n",
    "\n",
    "You should have a result similar to {'00': 510, '11': 514}. This means that the circuit collapsed to the state |00⟩ 510 times out of 1024, and |11⟩ 514 times out of 1024. Such results suggest that our quantum circuit created an equal superposition of (a 50/50 chance of either) |00⟩ and |11⟩ before measurement. \n",
    "\n",
    "#### **Why Are `|01⟩` and `|10⟩` Missing?**\n",
    "If the quantum circuit entangled two qubits into a **Bell state**, the system is described by:\n",
    "$\n",
    "\\frac{|00\\rangle + |11\\rangle}{\\sqrt{2}}\n",
    "$\n",
    "\n",
    "\n",
    "This means that the two qubits are **correlated**—measuring one qubit immediately determine~s the state of the other.\n",
    "\n",
    "- If **`q_0 = 0`**, then **`q_1` must also be `0`**, resulting in **`|00⟩`**.\n",
    "- If **`q_0 = 1`**, then **`q_1` must also be `1`**, resulting in **`|11⟩`**.\n",
    "\n",
    "Since the system **never collapses into `|01⟩` or `|10⟩`**, those states do not appear in the measurement results."
   ]
  },
  {
   "cell_type": "markdown",
   "metadata": {},
   "source": []
  },
  {
   "cell_type": "markdown",
   "metadata": {},
   "source": []
  }
 ],
 "metadata": {
  "language_info": {
   "name": "python"
  }
 },
 "nbformat": 4,
 "nbformat_minor": 2
}
