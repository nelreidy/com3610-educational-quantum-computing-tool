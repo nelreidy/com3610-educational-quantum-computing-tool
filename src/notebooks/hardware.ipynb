{
 "cells": [
  {
   "cell_type": "markdown",
   "id": "89681fa4",
   "metadata": {},
   "source": [
    "##  Deutsch–Jozsa on IBM quantum hardware\n",
    "\n",
    "The Deutsch–Jozsa algorithm is one of the earliest examples of a quantum algorithm that outperforms classical solutions. <br> It shows how we can determine if a function is constant or balanced using just **one** query to a quantum oracle.\n",
    "\n",
    "## The problem \n",
    "\n",
    "Given a function `f(x)` that returns either 0 or 1, and is guaranteed to be either:\n",
    "- **Constant**: the same value for all inputs, or\n",
    "- **Balanced**: returns 0 for half of the inputs and 1 for the other half,\n",
    "\n",
    "Our task is to determine which type it is using **just one call** to the quantum oracle. You may wonder what the practical application of this is.<br> The truth is, it is not very practical on its own as an algorithm, but it is a stepping stone for other real-life applicable algorithms like Bernstein–Vazirani, Shor's and Simon's.\n",
    "\n",
    "\n",
    "### STEP 1: Import our libraries \n",
    "\n",
    "Let's first begin by importing our libraries. \n"
   ]
  },
  {
   "cell_type": "code",
   "execution_count": null,
   "id": "c44c7c07",
   "metadata": {
    "vscode": {
     "languageId": "plaintext"
    }
   },
   "outputs": [],
   "source": [
    "import numpy as np                             #needed for numerical operations\n",
    "import matplotlib.pyplot as plt                #needed for plotting \n",
    "\n",
    "from qiskit import QuantumCircuit, transpile\n",
    "    # QuantumCircuit: Defines and manipulates quantum circuits.  \n",
    "    # transpile: Optimizes quantum circuits for a specific quantum backend.  \n",
    "    # assemble: Converts the circuit into a runnable format for execution on simulators or real quantum hardware.\n",
    "\n",
    "from qiskit.visualization import plot_histogram\n",
    "    # Lets us visualize quantum measurement results in a histogram format.\n",
    "\n",
    "from qiskit_ibm_runtime import QiskitRuntimeService, SamplerV2 as Sampler\n",
    "    # QiskitRuntimeService: Lets us connect to a cloud provided quantum backend and execute our jobs on into\n",
    "    # SamplerV2 Submits circuits to run on a backend and collects measurement results (bitstrings or counts)."
   ]
  },
  {
   "cell_type": "markdown",
   "id": "6b7d4d4f",
   "metadata": {},
   "source": [
    "### STEP 2: Choose our QPU backend"
   ]
  },
  {
   "cell_type": "code",
   "execution_count": null,
   "id": "0b68b97e",
   "metadata": {
    "vscode": {
     "languageId": "plaintext"
    }
   },
   "outputs": [],
   "source": [
    "service = QiskitRuntimeService(channel=\"ibm_quantum\")\n",
    "   # Connects to IBM Quantum service, uses your saved IBM token\n",
    "   # the service object gives access to IBM Quantum devices and lets you run jobs on them.\n",
    "\n",
    "for backend in service.backends(simulator=False): # fetch non-simulator backends, print out details\n",
    "    print(f\"{backend.name}: {backend.num_qubits} qubits, {backend.status().pending_jobs} jobs in queue, {backend.status().operational} operational\")\n",
    "    \n",
    "\n",
    "# backend = service.backend(\"NAME_OF_CHOSEN_BACKEND\")\n",
    "backend = service.least_busy(simulator=False, operational=True) # or simply fetch the least busy "
   ]
  },
  {
   "cell_type": "markdown",
   "id": "fd975d6c",
   "metadata": {},
   "source": [
    "### STEP 3: Define our circuit"
   ]
  },
  {
   "cell_type": "markdown",
   "id": "165c0326",
   "metadata": {},
   "source": [
    "#### 3.1 Create a quantum circuit with 3 qubits and 2 classical bits\n",
    "  - **q0, q1**:   the input qubits (for the function input x)\n",
    "  - **q2**:       the ancilla qubit (used to help encode the function output)\n",
    "  - **c0, c1**:   classical bits to record measurement results"
   ]
  },
  {
   "cell_type": "code",
   "execution_count": null,
   "id": "3f4632d6",
   "metadata": {
    "vscode": {
     "languageId": "plaintext"
    }
   },
   "outputs": [],
   "source": [
    "\n",
    "qc = QuantumCircuit(3, 2)"
   ]
  },
  {
   "cell_type": "markdown",
   "id": "827876c1",
   "metadata": {},
   "source": [
    "#### 3.2  Prepare the ancillary qubit **q2** in state |1⟩ by applying an X gate to bit flip\n",
    "- We'll use it to flip the phase based on f(x) later"
   ]
  },
  {
   "cell_type": "markdown",
   "id": "ed86bebe",
   "metadata": {},
   "source": [
    "qc.x(2)"
   ]
  },
  {
   "cell_type": "markdown",
   "id": "c843cded",
   "metadata": {},
   "source": [
    "#### 3.3 Apply Hadamard gates to all qubits\n",
    "-  This puts the input qubits into superposition, so we can evaluate all possible inputs x at once"
   ]
  },
  {
   "cell_type": "code",
   "execution_count": null,
   "id": "b714624f",
   "metadata": {
    "vscode": {
     "languageId": "plaintext"
    }
   },
   "outputs": [],
   "source": [
    "qc.h([0, 1, 2]) "
   ]
  },
  {
   "cell_type": "markdown",
   "id": "10aeb353",
   "metadata": {},
   "source": [
    " At this point:\n",
    " -  $q_0$ and $q_1$ are in a superposition of all possible input states:\n",
    "\n",
    "      $$\n",
    "      \\frac{1}{2} (|00⟩ + |01⟩ + |10⟩ + |11⟩)  $$                 \n",
    "\n",
    "     This means the circuit is exploring all possible inputs at the same time.\n",
    "     \n",
    " -  $q_2$ (the ancilla) is in the |−⟩ state   \n",
    "    $$\\frac{|0⟩ - |1⟩}{\\sqrt{2}}$$\n",
    " \n",
    "     This special state enables something called **phase kickback**.<br>\n",
    "     Phase kickback means that when we apply the oracle (CNOTs),\n",
    "     the effect of the function $f(x)$ is not stored in the ancilla qubit itself, <br>\n",
    "     but instead it flips the **sign (phase)** of the amplitude of the input state |x⟩. <br>\n",
    "     Here, $|x⟩$ refers to one of the possible 2-qubit basis states like $|00⟩$, $|01⟩$, $|10⟩$, or $|11⟩$.  of $q_0$ and $q_1$ <br>\n",
    "\n",
    "    This change affects the **entire superposition** of $q_0$ and $q_1$,  \n",
    "    and it’s what allows the algorithm to detect whether $f(x)$ is constant or balanced later through interference.\n",
    "\n",
    "- Reminder: The **phase** of a quantum state\n",
    "     refers to whether an amplitude is positive or negative (or complex).<br>\n",
    "    Two different quantum states  with the same probablisitic measrements but different phases might look like this:\n",
    "\n",
    "    - $|\\psi_1⟩ = \\frac{1}{\\sqrt{2}}(|0⟩ + |1⟩)$  \n",
    "    - $|\\psi_2⟩ = \\frac{1}{\\sqrt{2}}(|0⟩ - |1⟩)$\n",
    "\n",
    "\n",
    "\n",
    "<br>\n",
    "\n",
    "\n",
    "\n",
    "#### 3.4 Add the oracle (balanced for this example)\n",
    "\n",
    "In quantum algorithms like Deutsch–Jozsa, an **oracle** is a special subcircuit that simulates the behavior of our function $f(x)$.\n",
    "\n",
    "You can think of it as a **black box** that applies a transformation to the quantum state based on $f(x)$.  \n",
    "It doesn't reveal the actual function outputs — instead, it uses quantum gates to **modify the state in a way that reflects whether $f(x)$ is 0 or 1**.\n",
    "\n",
    "**In this example, we, the programmers, are the ones who define the oracle.**  \n",
    "We choose a specific function $f(x)$ (in this case, a balanced one) and simulate its effect.\n",
    "This lets us test how the Deutsch–Jozsa algorithm responds to different kinds of functions, ie, the oracle can be thought of as a stub in our algorithm.\n",
    "\n",
    "One way to implement a balanced $f(x)$ is to apply the equivalent of an XOR to our $q_0$ and $q_1$, such that half our inputs will have an output of 1 and the other half 0.  The result of our output does not change out input qubits, and instead affects our ancillary $q_2$. The oracle acts on a combined state of the input |x⟩ and ancilla qubit |y⟩:  \n",
    "$$\n",
    "|x⟩|y⟩ \\rightarrow |x⟩|y \\oplus f(x)⟩\n",
    "$$\n"
   ]
  },
  {
   "cell_type": "code",
   "execution_count": null,
   "id": "aa9a3b04",
   "metadata": {
    "vscode": {
     "languageId": "plaintext"
    }
   },
   "outputs": [],
   "source": [
    "qc.cx(0, 2)  # Controlled-NOT: flips q2 if q0 is 1\n",
    "qc.cx(1, 2)  # Controlled-NOT: flips q2 if q1 is 1"
   ]
  },
  {
   "cell_type": "markdown",
   "id": "c9b414c3",
   "metadata": {},
   "source": [
    "This means:\n",
    "- If $f(x) = 0$, the oracle does nothing.\n",
    "- If $f(x) = 1$, it attempt to bit flip the second qubit (`y`, our ancilla).\n",
    "\n",
    "##### **Here's the key idea:** \n",
    "We have previously prepared our the ancilla qubit $q_2$ in the special quantum state  $|-\\rangle$ : \n",
    "$$\n",
    "\\frac{|0⟩ - |1⟩}{\\sqrt{2}} \\quad \n",
    "$$\n",
    "\n",
    "When the oracle evaluates $f(x) = 1$, it attempts to **bit flip** the ancilla using an X gate (the quantum NOT gate).  \n",
    "Normally, X flips $|0⟩$ to $|1⟩$ and vice versa. But when applied to the $|-\\rangle$ state, we get:\n",
    "\n",
    "$$\n",
    "X \\left( \\frac{|0⟩ - |1⟩}{\\sqrt{2}} \\right) = \\frac{|1⟩ - |0⟩}{\\sqrt{2}} = -\\left( \\frac{|0⟩ - |1⟩}{\\sqrt{2}} \\right) = -|-\\rangle\n",
    "$$\n",
    "\n",
    "So the ancilla looks the same, but the entire system's state has gained a **global minus sign**.\n",
    "\n",
    "\n",
    "Because the oracle applied that X gate conditionally based on the input $|x⟩$ , this global phase becomes **attached to the $|x⟩$ state** that caused it, ie the effect is passed **back** to the input.\n",
    "\n",
    "This is what we call **phase kickback**.\n",
    "\n",
    "\n",
    "Thus, even though the ancilla qubit itself doesn't visibly change or store $f(x)$, its interaction with the input qubits **leaves behind a subtle phase flip**  \n",
    "in the **superposition of the input states $q_0$ and $q_1$** such that they become: \n",
    "      $$\n",
    "      \\frac{1}{2} (|00⟩ - |01⟩ - |10⟩ + |11⟩)  $$              \n",
    "\n",
    "\n",
    "#### 3.5 Apply Hadamards to input qubits \n",
    "\n",
    "Now that the phase information from the oracle is encoded into the input qubits,  \n",
    "we apply **Hadamard gates again** to $q_0$ and $q_1$.\n",
    "\n",
    "The purpose of this second round of Hadamards is to **interfere** the amplitudes of the different basis states.\n",
    "\n",
    "**Applying Hadamard gates**:\n",
    "\n",
    "Each Hadamard acts like a \"spreader\", turning each qubit into a superposition: \n",
    "- $|0⟩$ becomes $\\frac{1}{\\sqrt{2}} (|0⟩ + |1⟩)$\n",
    "- $|1⟩$ becomes $\\frac{1}{\\sqrt{2}} (|0⟩ - |1⟩)$\n"
   ]
  },
  {
   "cell_type": "code",
   "execution_count": null,
   "id": "c3957215",
   "metadata": {
    "vscode": {
     "languageId": "plaintext"
    }
   },
   "outputs": [],
   "source": [
    "qc.h([0,1])"
   ]
  },
  {
   "cell_type": "markdown",
   "id": "46de5eb1",
   "metadata": {},
   "source": [
    "Thus, applying $H \\otimes H$ (tensor product) to each 2-qubit basis state:\n",
    "\n",
    "- $|00⟩$ spreads into $(|00⟩ + |01⟩ + |10⟩ + |11⟩)$ with coeeficint of $\\frac{1}{2}$\n",
    "- $|01⟩$ spreads into $(|00⟩ - |01⟩ + |10⟩ - |11⟩)$ with coeeficint of $\\frac{1}{2}$\n",
    "- $|10⟩$ spreads into $(|00⟩ + |01⟩ - |10⟩ - |11⟩)$ with coeeficint of $\\frac{1}{2}$\n",
    "- $|11⟩$ spreads into $(|00⟩ - |01⟩ - |10⟩ + |11⟩)$ with coeeficint of $\\frac{1}{2}$\n",
    "\n",
    "* Tensor product is where we multiply every term in the first bracket by every term in the second bracket.\n",
    "  \n",
    "---\n",
    "\n",
    "After applying $H \\otimes H$, the full state becomes:\n",
    "\n",
    "$$\n",
    "\\frac{1}{2} \\left(\n",
    "\\frac{1}{2} (|00⟩ + |01⟩ + |10⟩ + |11⟩)\n",
    "- \\frac{1}{2} (|00⟩ - |01⟩ + |10⟩ - |11⟩)\n",
    "- \\frac{1}{2} (|00⟩ + |01⟩ - |10⟩ - |11⟩)\n",
    "+ \\frac{1}{2} (|00⟩ - |01⟩ - |10⟩ + |11⟩)\n",
    "\\right)\n",
    "$$\n",
    "\n",
    "\n",
    "\n",
    "Expanding inside the parentheses:\n",
    "\n",
    "$$\n",
    "= \\frac{1}{2} \\times \\frac{1}{2} \\left[\n",
    "(|00⟩ + |01⟩ + |10⟩ + |11⟩)\n",
    "- (|00⟩ - |01⟩ + |10⟩ - |11⟩)\n",
    "- (|00⟩ + |01⟩ - |10⟩ - |11⟩)\n",
    "+ (|00⟩ - |01⟩ - |10⟩ + |11⟩)\n",
    "\\right]\n",
    "$$\n",
    "\n",
    "Grouping like terms:\n",
    "\n",
    "$$\n",
    "= \\frac{1}{4} \\left[\n",
    "(+1 -1 -1 +1)|00⟩ +\n",
    "(+1 +1 -1 -1)|01⟩ +\n",
    "(+1 -1 +1 -1)|10⟩ +\n",
    "(+1 -1 -1 +1)|11⟩\n",
    "\\right]\n",
    "$$\n",
    "\n",
    "Simplifying each coefficient:\n",
    "\n",
    "- For $|00⟩$: $(+1 -1 -1 +1) = 0$\n",
    "- For $|01⟩$: $(+1 +1 -1 -1) = 0$\n",
    "- For $|10⟩$: $(+1 -1 +1 -1) = 0$\n",
    "- For $|11⟩$: $(+1 -1 -1 +1) = 2$\n",
    "\n",
    "Thus, the final state after multiplying the global $\\frac{1}{4}$:\n",
    "\n",
    "$$\n",
    "= \\frac{1}{2} |11⟩\n",
    "$$\n",
    "\n",
    "\n",
    "#### 3.6 Measure input qubits \n",
    "\n",
    "- If the measured bits are **00** ➔ the function is **constant**.\n",
    "- If the measured bits are **anything else** (01, 10, or 11) ➔ the function is **balanced**.\n"
   ]
  },
  {
   "cell_type": "code",
   "execution_count": null,
   "id": "8a6ddfe9",
   "metadata": {
    "vscode": {
     "languageId": "plaintext"
    }
   },
   "outputs": [],
   "source": [
    "qc.measure([0, 1], [0, 1])     #measure quantum bits 0 and 1 into classical register bits 0 and 1 \n"
   ]
  },
  {
   "cell_type": "markdown",
   "id": "df49f4ac",
   "metadata": {},
   "source": [
    "#####  **Why does $00$ mean the function is constant?**\n",
    "\n",
    "- If $f(x)$ is **constant**, the quantum amplitudes **all add up** constructively at $|00⟩$ after the second Hadamards.\n",
    "- This leads to a **100% chance** of measuring $|00⟩$.\n",
    "- If $f(x)$ is **balanced**, the amplitudes **cancel out** at $|00⟩$ by destructive interference (as we've demonstarted in 3.5), and you will measure something else.\n",
    "\n",
    "\n",
    "#### STEP 4: Execute on hardware \n",
    "\n",
    "Note that this may take a couple of minutes to run, depending on the queue."
   ]
  },
  {
   "cell_type": "code",
   "execution_count": null,
   "id": "ba7482ac",
   "metadata": {
    "vscode": {
     "languageId": "plaintext"
    }
   },
   "outputs": [],
   "source": [
    "sampler = Sampler(mode=backend)\n",
    "    # Create a Sampler primitive linked to the selected backend\n",
    "    # This will send the circuit to real quantum hardware for execution\n",
    "\n",
    "transpiled_circuit = transpile(qc, backend)\n",
    "    # Transpile the circuit to match the backend's specific gate set and connectivity\n",
    "    # This also optimizes the circuit so the real device can run it properly\n",
    "\n",
    "job = sampler.run([transpiled_circuit], shots=1024)\n",
    "    # Submit the circuit to the backend for execution\n",
    "    # shots=1024 means we will run the circuit 1024 times to get good measurement statistics\n",
    "    # Notice how we pass the sampler an array. It expects an array of circuit/\n",
    "\n",
    "result = job.result()[0]\n",
    "    # Get the result of the job\n",
    "    # result[0] because Sampler returns a list of results (one per circuit)\n",
    "\n",
    "counts = result.join_data().get_counts()\n",
    "    # Merge the raw shot data across all executions (join_data),\n",
    "    # then format it into a classical {bitstring: count} dictionary (get_counts)\n",
    "    # so that we can easily plot and analyze the measurement results.\n",
    "\n",
    "plot_histogram(counts, title=\"Measurement Results\")\n",
    "plt.show()\n",
    "    #Plot and show histogram of results\n",
    "\n",
    "qc.draw('mpl')\n",
    "    # Visualize the quantum circuit"
   ]
  },
  {
   "cell_type": "markdown",
   "id": "9ea36532",
   "metadata": {},
   "source": [
    "### **Congratulations!**\n",
    "\n",
    "You have run a quantum circuit on actual quantum hardware! \t＼(＾O＾)／\n",
    "\n",
    "---\n",
    "\n",
    "#### **Note on results**\n",
    "\n",
    "##### 1. Why are there runs with 00 as the result?\n",
    "\n",
    "Real quantum hardware is **noisy**.  \n",
    "There are small imperfections like **gate errors**, **decoherence**, and **readout errors** that can cause incorrect results.  \n",
    "In an ideal, noiseless system, a **balanced function** should never produce `00`.  \n",
    "However, on real devices, a small number of `00` measurements are expected due to these unavoidable noise effects.\n",
    "\n",
    "If most of your measurements are `11` and only a few are `00`, your experiment still worked as intended!\n",
    "\n",
    "\n",
    "\n",
    "##### 2. How is the result supposed to be 100% `11` when its amplitude was only $\\frac{1}{2}$?\n",
    "\n",
    "Remember from our introduction:  \n",
    "**Amplitude and probability are not the same.**\n",
    "\n",
    "- The amplitude of $|11⟩$ after the second Hadamard gates is $\\frac{1}{2}$.\n",
    "- To find the probability of measuring $|11⟩$, we **square the amplitude**:\n",
    "\n",
    "$$\n",
    "\\left( \\frac{1}{2} \\right)^2 = \\frac{1}{4}\n",
    "$$\n",
    "\n",
    "This would suggest a **25% chance** if other states also survived.\n",
    "\n",
    "**However**, in the Deutsch–Jozsa algorithm, after the second Hadamards:\n",
    "- **Destructive interference** cancels out the amplitudes of $|00⟩$, $|01⟩$, and $|10⟩$.\n",
    "- Only $|11⟩$ remains with a nonzero amplitude.\n",
    "\n",
    "Because the total probability must **still add up to 1** (normalization), the surviving $|11⟩$ state automatically **inherits all the probability mass**.\n",
    "\n",
    "Thus, you get **near 100% probability** of measuring `11`!\n",
    "\n",
    "\n",
    "#####  Extra Note on Normalization\n",
    "\n",
    "In quantum mechanics:\n",
    "- **Normalization** is not something we manually force — it is **preserved automatically** because all quantum operations (like Hadamard and CNOT) are **unitary**.\n",
    "- When interference cancels some states, the probability is **redistributed** among the remaining states to keep the total probability = 1.\n",
    "\n",
    "You don't have to normalize manually when running Qiskit circuits — it’s built into how quantum gates work!\n",
    "\n",
    "\n"
   ]
  }
 ],
 "metadata": {
  "language_info": {
   "name": "python"
  }
 },
 "nbformat": 4,
 "nbformat_minor": 5
}
